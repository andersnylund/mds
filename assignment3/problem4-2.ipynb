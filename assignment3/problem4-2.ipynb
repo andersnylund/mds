{
 "cells": [
  {
   "cell_type": "markdown",
   "metadata": {},
   "source": [
    "Set up pyspark and SparkSession"
   ]
  },
  {
   "cell_type": "code",
   "execution_count": 58,
   "metadata": {
    "collapsed": true
   },
   "outputs": [],
   "source": [
    "import pyspark\n",
    "from pyspark.sql.types import IntegerType\n",
    "from pyspark import SparkContext\n",
    "import json\n",
    "\n",
    "spark = pyspark.sql.SparkSession.builder \\\n",
    "    .master(\"local\") \\\n",
    "    .appName(\"movies\") \\\n",
    "    .getOrCreate()"
   ]
  },
  {
   "cell_type": "markdown",
   "metadata": {},
   "source": [
    "Load data"
   ]
  },
  {
   "cell_type": "code",
   "execution_count": 59,
   "metadata": {},
   "outputs": [],
   "source": [
    "df = spark.read.csv(path=\"/home/jovyan/movielens/ratings.csv\", header=True).limit(1000)\n",
    "df = df.withColumn(\"rating\", df[\"rating\"].cast(IntegerType()))"
   ]
  },
  {
   "cell_type": "markdown",
   "metadata": {},
   "source": [
    "Calculate average for each user"
   ]
  },
  {
   "cell_type": "code",
   "execution_count": 60,
   "metadata": {},
   "outputs": [
    {
     "data": {
      "text/plain": [
       "[Row(user_id='1', avg(rating)=4.188679245283019),\n Row(user_id='2', avg(rating)=3.7131782945736433),\n Row(user_id='3', avg(rating)=3.9019607843137254)]"
      ]
     },
     "execution_count": 60,
     "metadata": {},
     "output_type": "execute_result"
    }
   ],
   "source": [
    "averages = df \\\n",
    "    .groupBy(\"user_id\") \\\n",
    "    .avg(\"rating\") \\\n",
    "    .select(\"*\")\n",
    "\n",
    "averages.take(3)"
   ]
  },
  {
   "cell_type": "markdown",
   "metadata": {},
   "source": [
    "Subtract the average from each users each rating"
   ]
  },
  {
   "cell_type": "code",
   "execution_count": 62,
   "metadata": {
    "collapsed": true
   },
   "outputs": [
    {
     "data": {
      "text/plain": [
       "[Row(user_id='1', avg(rating)=4.188679245283019, rating=5, movie_id='1193'),\n Row(user_id='1', avg(rating)=4.188679245283019, rating=3, movie_id='661'),\n Row(user_id='1', avg(rating)=4.188679245283019, rating=3, movie_id='914')]"
      ]
     },
     "execution_count": 62,
     "metadata": {},
     "output_type": "execute_result"
    }
   ],
   "source": [
    "joined = averages \\\n",
    "    .join(df, df[\"user_id\"] == averages[\"user_id\"]) \\\n",
    "    .select(df[\"user_id\"], \"avg(rating)\", \"rating\", \"movie_id\")\\\n",
    "    .collect()\n",
    "\n",
    "joined[:3]"
   ]
  },
  {
   "cell_type": "markdown",
   "metadata": {},
   "source": [
    "Convert DataFrame to RDD"
   ]
  },
  {
   "cell_type": "code",
   "execution_count": 63,
   "metadata": {
    "collapsed": false
   },
   "outputs": [],
   "source": [
    "sc = SparkContext.getOrCreate()\n",
    "rdd = sc.parallelize(joined)"
   ]
  },
  {
   "cell_type": "markdown",
   "metadata": {},
   "source": [
    "Map the whole RDD to a python dictionary for easy look up"
   ]
  },
  {
   "cell_type": "code",
   "execution_count": 89,
   "metadata": {},
   "outputs": [
    {
     "name": "stdout",
     "output_type": "stream",
     "text": [
      "{\n    \"average\": 4.188679245283019,\n    \"ratings\": {\n        \"1193\": {\n            \"rating\": 5,\n            \"diff\": 0.8113207547169807\n        },\n        \"661\": {\n            \"rating\": 3,\n            \"diff\": -1.1886792452830193\n        },\n        \"914\": {\n            \"rating\": 3,\n            \"diff\": -1.1886792452830193\n        },\n        \"3408\": {\n            \"rating\": 4,\n            \"diff\": -0.18867924528301927\n        },\n        \"2355\": {\n            \"rating\": 5,\n            \"diff\": 0.8113207547169807\n        },\n        \"1197\": {\n            \"rating\": 3,\n            \"diff\": -1.1886792452830193\n        },\n        \"1287\": {\n            \"rating\": 5,\n            \"diff\": 0.8113207547169807\n        },\n        \"2804\": {\n            \"rating\": 5,\n            \"diff\": 0.8113207547169807\n        },\n        \"594\": {\n            \"rating\": 4,\n            \"diff\": -0.18867924528301927\n        },\n        \"919\": {\n            \"rating\": 4,\n            \"diff\": -0.18867924528301927\n        },\n        \"595\": {\n            \"rating\": 5,\n            \"diff\": 0.8113207547169807\n        },\n        \"938\": {\n            \"rating\": 4,\n            \"diff\": -0.18867924528301927\n        },\n        \"2398\": {\n            \"rating\": 4,\n            \"diff\": -0.18867924528301927\n        },\n        \"2918\": {\n            \"rating\": 4,\n            \"diff\": -0.18867924528301927\n        },\n        \"1035\": {\n            \"rating\": 5,\n            \"diff\": 0.8113207547169807\n        },\n        \"2791\": {\n            \"rating\": 4,\n            \"diff\": -0.18867924528301927\n        },\n        \"2687\": {\n            \"rating\": 3,\n            \"diff\": -1.1886792452830193\n        },\n        \"2018\": {\n            \"rating\": 4,\n            \"diff\": -0.18867924528301927\n        },\n        \"3105\": {\n            \"rating\": 5,\n            \"diff\": 0.8113207547169807\n        },\n        \"2797\": {\n            \"rating\": 4,\n            \"diff\": -0.18867924528301927\n        },\n        \"2321\": {\n            \"rating\": 3,\n            \"diff\": -1.1886792452830193\n        },\n        \"720\": {\n            \"rating\": 3,\n            \"diff\": -1.1886792452830193\n        },\n        \"1270\": {\n            \"rating\": 5,\n            \"diff\": 0.8113207547169807\n        },\n        \"527\": {\n            \"rating\": 5,\n            \"diff\": 0.8113207547169807\n        },\n        \"2340\": {\n            \"rating\": 3,\n            \"diff\": -1.1886792452830193\n        },\n        \"48\": {\n            \"rating\": 5,\n            \"diff\": 0.8113207547169807\n        },\n        \"1097\": {\n            \"rating\": 4,\n            \"diff\": -0.18867924528301927\n        },\n        \"1721\": {\n            \"rating\": 4,\n            \"diff\": -0.18867924528301927\n        },\n        \"1545\": {\n            \"rating\": 4,\n            \"diff\": -0.18867924528301927\n        },\n        \"745\": {\n            \"rating\": 3,\n            \"diff\": -1.1886792452830193\n        },\n        \"2294\": {\n            \"rating\": 4,\n            \"diff\": -0.18867924528301927\n        },\n        \"3186\": {\n            \"rating\": 4,\n            \"diff\": -0.18867924528301927\n        },\n        \"1566\": {\n            \"rating\": 4,\n            \"diff\": -0.18867924528301927\n        },\n        \"588\": {\n            \"rating\": 4,\n            \"diff\": -0.18867924528301927\n        },\n        \"1907\": {\n            \"rating\": 4,\n            \"diff\": -0.18867924528301927\n        },\n        \"783\": {\n            \"rating\": 4,\n            \"diff\": -0.18867924528301927\n        },\n        \"1836\": {\n            \"rating\": 5,\n            \"diff\": 0.8113207547169807\n        },\n        \"1022\": {\n            \"rating\": 5,\n            \"diff\": 0.8113207547169807\n        },\n        \"2762\": {\n            \"rating\": 4,\n            \"diff\": -0.18867924528301927\n        },\n        \"150\": {\n            \"rating\": 5,\n            \"diff\": 0.8113207547169807\n        },\n        \"1\": {\n            \"rating\": 5,\n            \"diff\": 0.8113207547169807\n        },\n        \"1961\": {\n            \"rating\": 5,\n            \"diff\": 0.8113207547169807\n        },\n        \"1962\": {\n            \"rating\": 4,\n            \"diff\": -0.18867924528301927\n        },\n        \"2692\": {\n            \"rating\": 4,\n            \"diff\": -0.18867924528301927\n        },\n        \"260\": {\n            \"rating\": 4,\n            \"diff\": -0.18867924528301927\n        },\n        \"1028\": {\n            \"rating\": 5,\n            \"diff\": 0.8113207547169807\n        },\n        \"1029\": {\n            \"rating\": 5,\n            \"diff\": 0.8113207547169807\n        },\n        \"1207\": {\n            \"rating\": 4,\n            \"diff\": -0.18867924528301927\n        },\n        \"2028\": {\n            \"rating\": 5,\n            \"diff\": 0.8113207547169807\n        },\n        \"531\": {\n            \"rating\": 4,\n            \"diff\": -0.18867924528301927\n        },\n        \"3114\": {\n            \"rating\": 4,\n            \"diff\": -0.18867924528301927\n        },\n        \"608\": {\n            \"rating\": 4,\n            \"diff\": -0.18867924528301927\n        },\n        \"1246\": {\n            \"rating\": 4,\n            \"diff\": -0.18867924528301927\n        }\n    }\n}\n"
     ]
    }
   ],
   "source": [
    "def seq_op(acc, obj):\n",
    "    user_id = obj[\"user_id\"]\n",
    "    movie_id = obj[\"movie_id\"]\n",
    "    average = obj[\"average\"]\n",
    "    rating = obj[\"rating\"]\n",
    "    diff = obj[\"diff\"]\n",
    "    \n",
    "    if user_id not in acc:\n",
    "        acc[user_id] = {\n",
    "            \"average\": average,\n",
    "            \"ratings\": {\n",
    "                movie_id: {\n",
    "                    \"rating\": rating,\n",
    "                    \"diff\": diff\n",
    "                }\n",
    "            }\n",
    "        }\n",
    "    else:\n",
    "        acc[user_id][\"ratings\"][movie_id] = {\n",
    "            \"rating\": rating,\n",
    "            \"diff\": diff\n",
    "        }\n",
    "    return acc\n",
    "\n",
    "\n",
    "combOp = (lambda x, y: {**x, **y})\n",
    "\n",
    "\n",
    "mapped = rdd.map(lambda row: {\"user_id\": row[\"user_id\"], \n",
    "                              \"rating\": row[\"rating\"],\n",
    "                              \"movie_id\": row[\"movie_id\"],\n",
    "                              \"average\": row[\"avg(rating)\"],\n",
    "                              \"diff\": row[\"rating\"] - row[\"avg(rating)\"]\n",
    "                              })\\\n",
    "            .aggregate({}, seq_op, combOp)\n",
    "\n",
    "\n",
    "print(json.dumps(mapped['1'], indent=4))\n",
    "\n"
   ]
  },
  {
   "cell_type": "markdown",
   "metadata": {},
   "source": [
    "Define function for calculating cosine similarity"
   ]
  },
  {
   "cell_type": "code",
   "execution_count": 146,
   "metadata": {},
   "outputs": [],
   "source": [
    "import numpy as np\n",
    "\n",
    "\n",
    "def cosine_similarity(first_list, second_list):\n",
    "\n",
    "    a = np.array(first_list)\n",
    "    b = np.array(second_list)\n",
    "    \n",
    "    dot_product = np.dot(a, b)\n",
    "    \n",
    "    a_length = np.linalg.norm(a)\n",
    "    b_length = np.linalg.norm(b)\n",
    "    \n",
    "    similarity = dot_product / (a_length * b_length)\n",
    "    similarity = \"{0:.10f}\".format(similarity)\n",
    "    \n",
    "    return similarity\n"
   ]
  },
  {
   "cell_type": "markdown",
   "metadata": {},
   "source": [
    "Define the compare method that compares the user to every other user"
   ]
  },
  {
   "cell_type": "code",
   "execution_count": 147,
   "metadata": {},
   "outputs": [],
   "source": [
    "def compare(user_id, mapped):\n",
    "    comparison = set()\n",
    "    user_movies = mapped[user_id]['ratings']\n",
    "\n",
    "    for other_user_id in mapped:\n",
    "        user = []\n",
    "        other = []\n",
    "        other_user_movies = mapped[other_user_id]['ratings']\n",
    "        for movie_id in other_user_movies:\n",
    "            if movie_id in user_movies:  # movie rated by both\n",
    "                user.append(user_movies[movie_id]['diff'])\n",
    "                other.append(other_user_movies[movie_id]['diff'])\n",
    "\n",
    "        # convert ids to int for correct comparison\n",
    "        user_id = int(user_id)\n",
    "        other_user_id = int(other_user_id)\n",
    "\n",
    "        smaller_id = user_id if user_id < other_user_id else other_user_id\n",
    "        bigger_id = user_id if user_id > other_user_id else other_user_id\n",
    "\n",
    "        similarity = cosine_similarity(user, other)\n",
    "        comparison.add((smaller_id, bigger_id, similarity))\n",
    "\n",
    "    return comparison\n"
   ]
  },
  {
   "cell_type": "code",
   "execution_count": 148,
   "metadata": {},
   "outputs": [],
   "source": [
    "def combine_sets(set1, set2):\n",
    "    set1.update(set2)\n",
    "    return set1"
   ]
  },
  {
   "cell_type": "code",
   "execution_count": null,
   "metadata": {
    "collapsed": false
   },
   "outputs": [
    {
     "name": "stdout",
     "output_type": "stream",
     "text": [
      "(1, 1, '1.0000000000')\n(1, 2, '0.4064027716')\n(2, 2, '1.0000000000')\n(1, 3, '-0.2588836853')\n(2, 3, '0.1890310596')\n(3, 3, '1.0000000000')\n(2, 4, '-0.1158950939')\n(1, 4, '0.3128806539')\n(3, 4, '0.3323344150')\n(4, 4, '1.0000000000')\n(4, 5, '-0.1254782857')\n(1, 5, '-0.2058648870')\n(2, 5, '-0.2313821493')\n(3, 5, '-0.4232298737')\n(5, 5, '1.0000000000')\n(2, 6, '-0.1494087588')\n(3, 6, '-0.1801803761')\n(5, 6, '-0.6541019536')\n(1, 6, '0.2594337896')\n(6, 6, '1.0000000000')\n(4, 6, '1.0000000000')\n(4, 7, '-0.1589797008')\n(5, 7, '0.0416290214')\n(2, 7, '0.2096508756')\n(6, 7, '0.2616426213')\n(1, 7, '0.3344098452')\n(3, 7, '0.7468360709')\n(7, 7, '1.0000000000')\n(2, 8, '-0.0098030927')\n(3, 8, '-0.5555050916')\n(6, 8, '-0.6949899073')\n(1, 8, '0.1580612378')\n(5, 8, '0.2081621193')\n(7, 8, '0.3019626599')\n(4, 8, '0.4562714916')\n(8, 8, '1.0000000000')\n(3, 9, '-0.2173912332')\n(6, 9, '-0.2276675682')\n(5, 9, '0.0650753693')\n(1, 9, '0.3184318199')\n(2, 9, '0.3580123072')\n(4, 9, '0.3903137001')\n(8, 9, '0.4053809271')\n(7, 9, '0.5389123155')\n(9, 9, '1.0000000000')\n(2, 10, '-0.0267519336')\n(1, 10, '-0.1704170394')\n(4, 10, '-0.3077331661')\n(5, 10, '0.0917011405')\n(9, 10, '0.1084782929')\n(3, 10, '0.1584961136')\n(8, 10, '0.1884212506')\n(6, 10, '0.3525341471')\n(7, 10, '0.7558602987')\n(10, 10, '1.0000000000')\n"
     ]
    }
   ],
   "source": [
    "import operator\n",
    "\n",
    "stream = sc.parallelize(mapped) \\\n",
    "    .map(lambda user_id: compare(user_id, mapped)) \\\n",
    "    .aggregate(set(), combine_sets, combine_sets)\n",
    "\n",
    "stream = sorted(stream, key=operator.itemgetter(0, 1))\n",
    "\n",
    "for tup in stream:\n",
    "    print(tup)\n",
    "\n"
   ]
  },
  {
   "cell_type": "code",
   "execution_count": null,
   "metadata": {},
   "outputs": [],
   "source": []
  }
 ],
 "metadata": {
  "kernelspec": {
   "display_name": "Python 2",
   "language": "python",
   "name": "python2"
  },
  "language_info": {
   "codemirror_mode": {
    "name": "ipython",
    "version": 2
   },
   "file_extension": ".py",
   "mimetype": "text/x-python",
   "name": "python",
   "nbconvert_exporter": "python",
   "pygments_lexer": "ipython2",
   "version": "2.7.6"
  }
 },
 "nbformat": 4,
 "nbformat_minor": 0
}
