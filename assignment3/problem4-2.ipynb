{
 "cells": [
  {
   "cell_type": "code",
   "execution_count": 1,
   "metadata": {
    "collapsed": true
   },
   "outputs": [],
   "source": [
    "import pyspark\n",
    "from pyspark.sql.types import IntegerType\n",
    "\n",
    "spark = pyspark.sql.SparkSession.builder \\\n",
    "    .master(\"local\") \\\n",
    "    .appName(\"movies\") \\\n",
    "    .getOrCreate()"
   ]
  },
  {
   "cell_type": "code",
   "execution_count": 3,
   "metadata": {},
   "outputs": [],
   "source": [
    "df = spark.read.csv(path=\"/home/jovyan/movielens/ratings.csv\", header=True)\n",
    "df = df.withColumn(\"rating\", df[\"rating\"].cast(IntegerType()))"
   ]
  },
  {
   "cell_type": "code",
   "execution_count": 4,
   "metadata": {},
   "outputs": [],
   "source": [
    "averages = df \\\n",
    "    .groupBy(\"user_id\") \\\n",
    "    .avg(\"rating\") \\\n",
    "    .select(\"*\")"
   ]
  },
  {
   "cell_type": "code",
   "execution_count": 5,
   "metadata": {
    "collapsed": true
   },
   "outputs": [],
   "source": [
    "subtracted = averages \\\n",
    "    .join(df, df[\"user_id\"] == averages[\"user_id\"]) \\\n",
    "    .select(df[\"user_id\"], \"avg(rating)\", \"rating\", \"movie_id\") \\\n",
    "    .collect()"
   ]
  },
  {
   "cell_type": "code",
   "execution_count": 16,
   "metadata": {
    "collapsed": false
   },
   "outputs": [
    {
     "name": "stdout",
     "output_type": "stream",
     "text": [
      "6040\n"
     ]
    }
   ],
   "source": [
    "users = {}\n",
    "\n",
    "for user in subtracted:\n",
    "    user_id = user[\"user_id\"]\n",
    "    movie_id = user[\"movie_id\"]\n",
    "    rating = user[\"rating\"]\n",
    "    average = user[\"avg(rating)\"]\n",
    "    if user_id not in users:\n",
    "        users[user_id] = {\n",
    "            \"average\": average,\n",
    "            movie_id: {\n",
    "                \"rating\": rating,\n",
    "                \"diff\": rating - average\n",
    "            }\n",
    "        }\n",
    "    else:\n",
    "        users[user_id][movie_id] = {\n",
    "            \"rating\": rating,\n",
    "            \"diff\": rating - average\n",
    "        }"
   ]
  },
  {
   "cell_type": "code",
   "execution_count": null,
   "metadata": {},
   "outputs": [],
   "source": []
  }
 ],
 "metadata": {
  "kernelspec": {
   "display_name": "Python 2",
   "language": "python",
   "name": "python2"
  },
  "language_info": {
   "codemirror_mode": {
    "name": "ipython",
    "version": 2
   },
   "file_extension": ".py",
   "mimetype": "text/x-python",
   "name": "python",
   "nbconvert_exporter": "python",
   "pygments_lexer": "ipython2",
   "version": "2.7.6"
  }
 },
 "nbformat": 4,
 "nbformat_minor": 0
}
