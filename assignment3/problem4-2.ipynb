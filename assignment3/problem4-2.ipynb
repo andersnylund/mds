{
 "cells": [
  {
   "cell_type": "code",
   "execution_count": 1,
   "metadata": {
    "collapsed": true
   },
   "outputs": [],
   "source": [
    "import pyspark\n",
    "from pyspark.sql.types import IntegerType\n",
    "from pyspark import SparkContext\n",
    "\n",
    "spark = pyspark.sql.SparkSession.builder \\\n",
    "    .master(\"local\") \\\n",
    "    .appName(\"movies\") \\\n",
    "    .getOrCreate()"
   ]
  },
  {
   "cell_type": "code",
   "execution_count": 13,
   "metadata": {},
   "outputs": [],
   "source": [
    "df = spark.read.csv(path=\"/home/jovyan/movielens/ratings.csv\", header=True)\n",
    "df = df.withColumn(\"rating\", df[\"rating\"].cast(IntegerType()))\n",
    "df = df.withColumn(\"user_id\", df[\"user_id\"].cast(IntegerType()))\n",
    "df = df.withColumn(\"movie_id\", df[\"movie_id\"].cast(IntegerType()))\n"
   ]
  },
  {
   "cell_type": "code",
   "execution_count": 14,
   "metadata": {},
   "outputs": [],
   "source": [
    "averages = df \\\n",
    "    .groupBy(\"user_id\") \\\n",
    "    .avg(\"rating\") \\\n",
    "    .select(\"*\")"
   ]
  },
  {
   "cell_type": "code",
   "execution_count": 15,
   "metadata": {
    "collapsed": true
   },
   "outputs": [],
   "source": [
    "subtracted = averages \\\n",
    "    .join(df, df[\"user_id\"] == averages[\"user_id\"]) \\\n",
    "    .select(df[\"user_id\"], \"avg(rating)\", \"rating\", \"movie_id\") \\\n",
    "    .collect()"
   ]
  },
  {
   "cell_type": "code",
   "execution_count": 34,
   "metadata": {
    "collapsed": false
   },
   "outputs": [],
   "source": [
    "sc = SparkContext.getOrCreate()\n",
    "rdd = sc.parallelize(subtracted)\n",
    "\n"
   ]
  },
  {
   "cell_type": "code",
   "execution_count": 35,
   "metadata": {},
   "outputs": [],
   "source": [
    "mapped = rdd.map(lambda row: {\"user_id\": row[\"user_id\"], \n",
    "                              \"rating\": row[\"rating\"],\n",
    "                              \"movie_id\": row[\"movie_id\"],\n",
    "                              # \"average\": row[\"avg(rating)\"],\n",
    "                              \"diff\": row[\"rating\"] - row[\"avg(rating)\"]\n",
    "                              })"
   ]
  },
  {
   "cell_type": "code",
   "execution_count": 36,
   "metadata": {},
   "outputs": [],
   "source": [
    "def common_movie_ids(user_id1, user_id2, rows):\n",
    "    movies_1 = rows.filter(lambda row: row[\"user_id\"] == user_id1).map(lambda row: row[\"movie_id\"]).collect()\n",
    "    movies_2 = rows.filter(lambda row: row[\"user_id\"] == user_id2).map(lambda row: row[\"movie_id\"]).collect()\n",
    "    return set(movies_1).intersection(movies_2)\n"
   ]
  },
  {
   "cell_type": "code",
   "execution_count": 59,
   "metadata": {},
   "outputs": [
    {
     "name": "stdout",
     "output_type": "stream",
     "text": [
      "{3105, 1193, 1962, 2028, 2321, 1207, 1246}\n"
     ]
    }
   ],
   "source": [
    "user1_id = 1\n",
    "user2_id = 2\n",
    "\n",
    "movie_ids = common_movie_ids(user1_id, user2_id, mapped)\n",
    "print(movie_ids)"
   ]
  },
  {
   "cell_type": "code",
   "execution_count": 60,
   "metadata": {},
   "outputs": [],
   "source": [
    "user1_rating_vector = mapped\\\n",
    "    .filter(lambda row: row[\"movie_id\"] in movie_ids and row[\"user_id\"] is user1_id)\\\n",
    "    .map(lambda row: row[\"diff\"])\\\n",
    "    .collect()\n",
    "\n",
    "user2_rating_vector = mapped\\\n",
    "    .filter(lambda row: row[\"movie_id\"] in movie_ids and row[\"user_id\"] is user2_id)\\\n",
    "    .map(lambda row: row[\"diff\"])\\\n",
    "    .collect()"
   ]
  },
  {
   "cell_type": "code",
   "execution_count": 61,
   "metadata": {},
   "outputs": [
    {
     "name": "stdout",
     "output_type": "stream",
     "text": [
      "-0.264426718823\n"
     ]
    }
   ],
   "source": [
    "import numpy as np\n",
    "\n",
    "a = np.array(user1_rating_vector)\n",
    "b = np.array(user2_rating_vector)\n",
    "\n",
    "dot_product = np.dot(a, b)\n",
    "\n",
    "a_length = np.linalg.norm(a)\n",
    "b_length = np.linalg.norm(b)\n",
    "\n",
    "cosine_similarity = dot_product / (a_length * b_length)\n",
    "\n",
    "print(cosine_similarity)\n"
   ]
  }
 ],
 "metadata": {
  "kernelspec": {
   "display_name": "Python 2",
   "language": "python",
   "name": "python2"
  },
  "language_info": {
   "codemirror_mode": {
    "name": "ipython",
    "version": 2
   },
   "file_extension": ".py",
   "mimetype": "text/x-python",
   "name": "python",
   "nbconvert_exporter": "python",
   "pygments_lexer": "ipython2",
   "version": "2.7.6"
  }
 },
 "nbformat": 4,
 "nbformat_minor": 0
}
