{
 "cells": [
  {
   "cell_type": "markdown",
   "metadata": {},
   "source": [
    "Set up pyspark and SparkSession"
   ]
  },
  {
   "cell_type": "code",
   "execution_count": null,
   "metadata": {
    "collapsed": true
   },
   "outputs": [],
   "source": [
    "import pyspark\n",
    "from pyspark.sql.types import IntegerType\n",
    "from pyspark import SparkContext\n",
    "import json\n",
    "\n",
    "spark = pyspark.sql.SparkSession.builder \\\n",
    "    .master(\"local\") \\\n",
    "    .appName(\"movies\") \\\n",
    "    .getOrCreate()"
   ]
  },
  {
   "cell_type": "markdown",
   "metadata": {},
   "source": [
    "Load data"
   ]
  },
  {
   "cell_type": "code",
   "execution_count": 2,
   "metadata": {},
   "outputs": [],
   "source": [
    ""
   ]
  },
  {
   "cell_type": "markdown",
   "metadata": {},
   "source": [
    "Calculate average for each user"
   ]
  },
  {
   "cell_type": "code",
   "execution_count": 3,
   "metadata": {},
   "outputs": [
    {
     "data": {
      "text/plain": [
       "[Row(user_id='296', avg(rating)=3.597938144329897),\n Row(user_id='467', avg(rating)=3.2028985507246377),\n Row(user_id='675', avg(rating)=3.3095238095238093)]"
      ]
     },
     "execution_count": 3,
     "metadata": {},
     "output_type": "execute_result"
    }
   ],
   "source": [
    "averages = df \\\n",
    "    .groupBy(\"usedf = spark.read.csv(path=\"/home/jovyan/movielens/ratings.csv\", header=True)\n",
    "df = df.withColumn(\"rating\", df[\"rating\"].cast(IntegerType()))r_id\") \\\n",
    "    .avg(\"rating\") \\\n",
    "    .select(\"*\")\n",
    "\n",
    "averages.take(3)"
   ]
  },
  {
   "cell_type": "markdown",
   "metadata": {},
   "source": [
    "Subtract the average from each users each rating"
   ]
  },
  {
   "cell_type": "code",
   "execution_count": 4,
   "metadata": {
    "collapsed": true
   },
   "outputs": [
    {
     "data": {
      "text/plain": [
       "[Row(user_id='1', avg(rating)=4.188679245283019, rating=5, movie_id='1193'),\n Row(user_id='1', avg(rating)=4.188679245283019, rating=3, movie_id='661'),\n Row(user_id='1', avg(rating)=4.188679245283019, rating=3, movie_id='914')]"
      ]
     },
     "execution_count": 4,
     "metadata": {},
     "output_type": "execute_result"
    }
   ],
   "source": [
    "joined = averages \\\n",
    "    .join(df, df[\"user_id\"] == averages[\"user_id\"]) \\\n",
    "    .select(df[\"user_id\"], \"avg(rating)\", \"rating\", \"movie_id\")\\\n",
    "    .collect()\n",
    "\n",
    "joined[:3]"
   ]
  },
  {
   "cell_type": "markdown",
   "metadata": {},
   "source": [
    "Convert DataFrame to RDD"
   ]
  },
  {
   "cell_type": "code",
   "execution_count": 5,
   "metadata": {
    "collapsed": false
   },
   "outputs": [],
   "source": [
    "sc = SparkContext.getOrCreate()\n",
    "rdd = sc.parallelize(joined)"
   ]
  },
  {
   "cell_type": "markdown",
   "metadata": {},
   "source": [
    "Map the whole RDD to a python dictionary for easy look up"
   ]
  },
  {
   "cell_type": "code",
   "execution_count": 6,
   "metadata": {},
   "outputs": [],
   "source": [
    "def seq_op(acc, obj):\n",
    "    user_id = obj[\"user_id\"]\n",
    "    movie_id = obj[\"movie_id\"]\n",
    "    average = obj[\"average\"]\n",
    "    rating = obj[\"rating\"]\n",
    "    diff = obj[\"diff\"]\n",
    "    \n",
    "    if user_id not in acc:\n",
    "        acc[user_id] = {\n",
    "            \"average\": average,\n",
    "            \"ratings\": {\n",
    "                movie_id: {\n",
    "                    \"rating\": rating,\n",
    "                    \"diff\": diff\n",
    "                }\n",
    "            }\n",
    "        }\n",
    "    else:\n",
    "        acc[user_id][\"ratings\"][movie_id] = {\n",
    "            \"rating\": rating,\n",
    "            \"diff\": diff\n",
    "        }\n",
    "    return acc\n",
    "\n",
    "\n",
    "combOp = (lambda x, y: {**x, **y})\n",
    "\n",
    "\n",
    "mapped = rdd.map(lambda row: {\"user_id\": row[\"user_id\"], \n",
    "                              \"rating\": row[\"rating\"],\n",
    "                              \"movie_id\": row[\"movie_id\"],\n",
    "                              \"average\": row[\"avg(rating)\"],\n",
    "                              \"diff\": row[\"rating\"] - row[\"avg(rating)\"]\n",
    "                              })\\\n",
    "            .aggregate({}, seq_op, combOp)\n",
    "\n",
    "\n",
    "print(json.dumps(mapped['1'], indent=4))\n",
    "\n"
   ]
  },
  {
   "cell_type": "markdown",
   "metadata": {},
   "source": [
    "Define function for calculating cosine similarity"
   ]
  },
  {
   "cell_type": "code",
   "execution_count": 7,
   "metadata": {},
   "outputs": [],
   "source": [
    "import numpy as np\n",
    "\n",
    "\n",
    "def cosine_similarity(first_list, second_list):\n",
    "\n",
    "    a = np.array(first_list)\n",
    "    b = np.array(second_list)\n",
    "    \n",
    "    dot_product = np.dot(a, b)\n",
    "    \n",
    "    a_length = np.linalg.norm(a)\n",
    "    b_length = np.linalg.norm(b)\n",
    "    \n",
    "    similarity = dot_product / (a_length * b_length)\n",
    "    similarity = \"{0:.10f}\".format(similarity)\n",
    "    \n",
    "    return similarity\n"
   ]
  },
  {
   "cell_type": "markdown",
   "metadata": {},
   "source": [
    "Define the compare method that compares the user to every other user"
   ]
  },
  {
   "cell_type": "code",
   "execution_count": 8,
   "metadata": {},
   "outputs": [],
   "source": [
    "def compare(user_id, mapped):\n",
    "    comparison = set()\n",
    "    user_movies = mapped[user_id]['ratings']\n",
    "\n",
    "    for other_user_id in mapped:\n",
    "        user = []\n",
    "        other = []\n",
    "        other_user_movies = mapped[other_user_id]['ratings']\n",
    "        for movie_id in other_user_movies:\n",
    "            if movie_id in user_movies:  # movie rated by both\n",
    "                user.append(user_movies[movie_id]['diff'])\n",
    "                other.append(other_user_movies[movie_id]['diff'])\n",
    "\n",
    "        # convert ids to int for correct comparison\n",
    "        user_id = int(user_id)\n",
    "        other_user_id = int(other_user_id)\n",
    "\n",
    "        smaller_id = user_id if user_id < other_user_id else other_user_id\n",
    "        bigger_id = user_id if user_id > other_user_id else other_user_id\n",
    "\n",
    "        similarity = cosine_similarity(user, other)\n",
    "        comparison.add((smaller_id, bigger_id, similarity))\n",
    "\n",
    "    return comparison\n"
   ]
  },
  {
   "cell_type": "markdown",
   "metadata": {},
   "source": [
    "Define a methods for combining sets"
   ]
  },
  {
   "cell_type": "code",
   "execution_count": 9,
   "metadata": {},
   "outputs": [],
   "source": [
    "def combine_sets(set1, set2):\n",
    "    set1.update(set2)\n",
    "    return set1"
   ]
  },
  {
   "cell_type": "markdown",
   "metadata": {},
   "source": [
    "Perform the comparison"
   ]
  },
  {
   "cell_type": "code",
   "execution_count": 10,
   "metadata": {
    "collapsed": false
   },
   "outputs": [],
   "source": [
    "comparison = sc.parallelize(mapped) \\\n",
    "    .map(lambda user_id: compare(user_id, mapped)) \\\n",
    "    .aggregate(set(), combine_sets, combine_sets)\n",
    "\n",
    "\n",
    "\n"
   ]
  },
  {
   "cell_type": "code",
   "execution_count": null,
   "metadata": {},
   "outputs": [],
   "source": []
  }
 ],
 "metadata": {
  "kernelspec": {
   "display_name": "Python 2",
   "language": "python",
   "name": "python2"
  },
  "language_info": {
   "codemirror_mode": {
    "name": "ipython",
    "version": 2
   },
   "file_extension": ".py",
   "mimetype": "text/x-python",
   "name": "python",
   "nbconvert_exporter": "python",
   "pygments_lexer": "ipython2",
   "version": "2.7.6"
  }
 },
 "nbformat": 4,
 "nbformat_minor": 0
}
